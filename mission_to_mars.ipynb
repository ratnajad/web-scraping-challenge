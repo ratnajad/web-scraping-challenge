{
 "cells": [
  {
   "cell_type": "code",
   "execution_count": 1,
   "id": "37d57596",
   "metadata": {},
   "outputs": [],
   "source": [
    "from splinter import Browser\n",
    "from bs4 import BeautifulSoup as soup\n",
    "import pandas as pd\n",
    "from webdriver_manager.chrome import ChromeDriverManager"
   ]
  },
  {
   "cell_type": "code",
   "execution_count": 2,
   "id": "2d402ad2",
   "metadata": {},
   "outputs": [
    {
     "name": "stderr",
     "output_type": "stream",
     "text": [
      "\n",
      "\n",
      "====== WebDriver manager ======\n",
      "Current google-chrome version is 96.0.4664\n",
      "Get LATEST chromedriver version for 96.0.4664 google-chrome\n",
      "Driver [/Users/ratna/.wdm/drivers/chromedriver/mac64/96.0.4664.45/chromedriver] found in cache\n"
     ]
    }
   ],
   "source": [
    "executable_path = {'executable_path': ChromeDriverManager().install()}\n",
    "browser = Browser('chrome', **executable_path, headless=False)"
   ]
  },
  {
   "cell_type": "code",
   "execution_count": 3,
   "id": "e93dfce2",
   "metadata": {},
   "outputs": [],
   "source": [
    "url = 'https://redplanetscience.com/'\n",
    "browser.visit(url)\n",
    "html = browser.html\n",
    "\n",
    "news_soup = soup(html, 'html.parser')\n",
    "\n",
    "news_title = news_soup.find('div', class_= \"content_title\").text\n",
    "news_paragraph = news_soup.find('div', class_= \"article_teaser_body\").text"
   ]
  },
  {
   "cell_type": "code",
   "execution_count": 4,
   "id": "a96ba227",
   "metadata": {},
   "outputs": [],
   "source": [
    "url = 'https://spaceimages-mars.com'\n",
    "browser.visit(url)\n",
    "html = browser.html\n",
    "\n",
    "img_soup = soup(html, 'html.parser')\n",
    "img_end_point = img_soup.find('img', class_='headerimage fade-in')['src']\n",
    "\n",
    "img_url = url + '/' + img_end_point\n"
   ]
  },
  {
   "cell_type": "code",
   "execution_count": 5,
   "id": "23882c6d",
   "metadata": {},
   "outputs": [
    {
     "data": {
      "text/plain": [
       "'https://spaceimages-mars.com/image/featured/mars2.jpg'"
      ]
     },
     "execution_count": 5,
     "metadata": {},
     "output_type": "execute_result"
    }
   ],
   "source": [
    "img_url"
   ]
  },
  {
   "cell_type": "code",
   "execution_count": 6,
   "id": "c1322592",
   "metadata": {},
   "outputs": [
    {
     "data": {
      "text/plain": [
       "'<table border=\"1\" class=\"dataframe\">\\n  <thead>\\n    <tr style=\"text-align: right;\">\\n      <th></th>\\n      <th>0</th>\\n      <th>1</th>\\n      <th>2</th>\\n    </tr>\\n  </thead>\\n  <tbody>\\n    <tr>\\n      <th>0</th>\\n      <td>Mars - Earth Comparison</td>\\n      <td>Mars</td>\\n      <td>Earth</td>\\n    </tr>\\n    <tr>\\n      <th>1</th>\\n      <td>Diameter:</td>\\n      <td>6,779 km</td>\\n      <td>12,742 km</td>\\n    </tr>\\n    <tr>\\n      <th>2</th>\\n      <td>Mass:</td>\\n      <td>6.39 × 10^23 kg</td>\\n      <td>5.97 × 10^24 kg</td>\\n    </tr>\\n    <tr>\\n      <th>3</th>\\n      <td>Moons:</td>\\n      <td>2</td>\\n      <td>1</td>\\n    </tr>\\n    <tr>\\n      <th>4</th>\\n      <td>Distance from Sun:</td>\\n      <td>227,943,824 km</td>\\n      <td>149,598,262 km</td>\\n    </tr>\\n    <tr>\\n      <th>5</th>\\n      <td>Length of Year:</td>\\n      <td>687 Earth days</td>\\n      <td>365.24 days</td>\\n    </tr>\\n    <tr>\\n      <th>6</th>\\n      <td>Temperature:</td>\\n      <td>-87 to -5 °C</td>\\n      <td>-88 to 58°C</td>\\n    </tr>\\n  </tbody>\\n</table>'"
      ]
     },
     "execution_count": 6,
     "metadata": {},
     "output_type": "execute_result"
    }
   ],
   "source": [
    "url = 'https://galaxyfacts-mars.com/'\n",
    "table = pd.read_html(url)[0].to_html()\n",
    "table"
   ]
  },
  {
   "cell_type": "code",
   "execution_count": 7,
   "id": "8993b78e",
   "metadata": {},
   "outputs": [],
   "source": [
    "base_url = 'https://marshemispheres.com'\n",
    "browser.visit(base_url)\n",
    "html = browser.html\n",
    "\n",
    "hemisphere_first_page_soup= soup(html, 'html.parser')\n"
   ]
  },
  {
   "cell_type": "code",
   "execution_count": 8,
   "id": "c2894e9f",
   "metadata": {},
   "outputs": [],
   "source": [
    "found_result_list = hemisphere_first_page_soup.find_all('a', class_='itemLink product-item')\n",
    "\n",
    "list_of_hemisphere_pages = []\n",
    "\n",
    "for tag in found_result_list:\n",
    "    if tag['href'] == '#': continue\n",
    "    else: list_of_hemisphere_pages.append(base_url + '/' + tag['href'])\n",
    "    \n",
    "list_of_hemisphere_pages = list(set(list_of_hemisphere_pages))\n",
    "\n",
    "list_of_hemisphere_dictionaries = []\n",
    "    "
   ]
  },
  {
   "cell_type": "code",
   "execution_count": 9,
   "id": "ffc01fba",
   "metadata": {},
   "outputs": [],
   "source": [
    "for url in list_of_hemisphere_pages:\n",
    "    browser.visit(url)\n",
    "    html = browser.html\n",
    "    \n",
    "    hemisphere_soup = soup(html, 'html.parser')\n",
    "    hemisphere_img_end = hemisphere_soup.find_all('a', {'target':'_blank'})[2]['href']\n",
    "    \n",
    "    full_url = base_url + '/' + hemisphere_img_end\n",
    "    hemisphere_title = hemisphere_soup.find('h2', class_='title').text\n",
    "    \n",
    "    dummy_dictionary = {hemisphere_title: full_url}\n",
    "    list_of_hemisphere_dictionaries.append(dummy_dictionary)"
   ]
  },
  {
   "cell_type": "code",
   "execution_count": null,
   "id": "62bb1d1f",
   "metadata": {},
   "outputs": [],
   "source": []
  }
 ],
 "metadata": {
  "kernelspec": {
   "display_name": "Python 3",
   "language": "python",
   "name": "python3"
  },
  "language_info": {
   "codemirror_mode": {
    "name": "ipython",
    "version": 3
   },
   "file_extension": ".py",
   "mimetype": "text/x-python",
   "name": "python",
   "nbconvert_exporter": "python",
   "pygments_lexer": "ipython3",
   "version": "3.8.8"
  }
 },
 "nbformat": 4,
 "nbformat_minor": 5
}
